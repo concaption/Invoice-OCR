{
 "cells": [
  {
   "cell_type": "code",
   "execution_count": 2,
   "metadata": {},
   "outputs": [
    {
     "name": "stderr",
     "output_type": "stream",
     "text": [
      "Processing BOLs from AMAZON FREIGHT & CENTRAL FREIGHT (11 ORDERS) 05.30.24 (LIFEPRO)-1-2.pdf: 100%|██████████| 2/2 [00:08<00:00,  4.38s/it]\n",
      "100%|██████████| 1/1 [00:16<00:00, 16.30s/it]\n"
     ]
    }
   ],
   "source": [
    "from app.scheduler import job\n",
    "import logging\n",
    "logger = logging.getLogger(__name__)\n",
    "await job()"
   ]
  },
  {
   "cell_type": "code",
   "execution_count": 2,
   "metadata": {},
   "outputs": [],
   "source": [
    "from tqdm import tqdm\n",
    "from utils.ocr import OCRTool\n",
    "from utils.pdf_splitter import process_pdf\n",
    "from app.config import settings\n",
    "from utils.emailclient import EmailAttachmentExtractor\n",
    "from datetime import datetime, timedelta\n",
    "from utils.sheet import SheetsClient\n",
    "from utils.drive import DriveClient\n",
    "import pandas as pd\n",
    "import logging\n",
    "logger = logging.getLogger(__name__)"
   ]
  },
  {
   "cell_type": "code",
   "execution_count": 2,
   "metadata": {},
   "outputs": [
    {
     "name": "stdout",
     "output_type": "stream",
     "text": [
      "Connected to email server\n"
     ]
    }
   ],
   "source": [
    "email_client = EmailAttachmentExtractor(\n",
    "        email_address=settings.EMAIL_ADDRESS,\n",
    "        password=settings.EMAIL_PASSWORD,\n",
    "        imap_server=settings.IMAP_SERVER\n",
    "        )\n",
    "if email_client.connect():\n",
    "    today = datetime.now().strftime(\"%d-%b-%Y\")\n",
    "    yesterday = (datetime.now() - timedelta(days=1)).strftime(\"%d-%b-%Y\")\n",
    "    pdfs = email_client.extract_pdf_attachments(num_emails=200,\n",
    "                                            subject_contains=settings.WORD_IN_SUBJECT)\n",
    "                                            # date_from=yesterday,\n",
    "                                            # date_to=today)"
   ]
  },
  {
   "cell_type": "code",
   "execution_count": 11,
   "metadata": {},
   "outputs": [
    {
     "name": "stderr",
     "output_type": "stream",
     "text": [
      "Processing BOLs from AMAZON FREIGHT & CENTRAL FREIGHT (11 ORDERS) 05.30.24 (LIFEPRO).pdf: 100%|██████████| 11/11 [00:51<00:00,  4.68s/it]\n",
      "Processing BOLs from chai6.11.pdf: 100%|██████████| 15/15 [01:03<00:00,  4.26s/it]\n"
     ]
    }
   ],
   "source": [
    "results = []\n",
    "try:\n",
    "    for pdf in pdfs:\n",
    "        result = process_pdf(pdf['binary_data'], OCRTool(), pdf['file_name'])\n",
    "        results.append(result)\n",
    "        try:\n",
    "            drive_client = DriveClient(credentials_file_path=settings.CREDENTIALS_FILE_PATH)\n",
    "            for bol in result:\n",
    "                file_name = bol.get('file_name')\n",
    "                binary_data = bol.get('binary_data')\n",
    "                file_path = 'folder1/' + file_name\n",
    "                pdf_link = drive_client.upload_pdf(binary_data, file_path, parent_folder_id = settings.DRIVE_FOLDER_ID)\n",
    "                bol['pdf_link'] = pdf_link\n",
    "\n",
    "            data = [\n",
    "                {\n",
    "                    'ship_from_company_name': item['shipment_info']['ship_from']['company_name'],\n",
    "                    'ship_from_contact_person': item['shipment_info']['ship_from']['contact_person'],\n",
    "                    'ship_from_contact_number': item['shipment_info']['ship_from']['contact_number'],\n",
    "                    'ship_from_address': item['shipment_info']['ship_from']['address'],\n",
    "                    'ship_to_company_name': item['shipment_info']['ship_to']['company_name'],\n",
    "                    'ship_to_contact_person': item['shipment_info']['ship_to']['contact_person'],\n",
    "                    'ship_to_contact_number': item['shipment_info']['ship_to']['contact_number'],\n",
    "                    'ship_to_address': item['shipment_info']['ship_to']['address'],\n",
    "                    'carrier_name': item['shipment_info']['carrier_info']['carrier_name'],\n",
    "                    'scac': item['shipment_info']['carrier_info']['scac'],\n",
    "                    'pro_number': item['shipment_info']['carrier_info']['pro_number'],\n",
    "                    'order_number': item['shipment_info']['customer_order_information']['order_number'],\n",
    "                    'shipment_id': item['shipment_info']['customer_order_information']['shipment_id'],\n",
    "                    'pallets': item['shipment_info']['customer_order_information']['pallets'],\n",
    "                    'cartons': item['shipment_info']['customer_order_information']['cartons'],\n",
    "                    'weight': item['shipment_info']['customer_order_information']['weight'],\n",
    "                    'pdf_link': item['pdf_link'],\n",
    "                } \n",
    "                for item in result\n",
    "            ]\n",
    "\n",
    "            result_dataframe = pd.DataFrame(data)\n",
    "            sheets_client = SheetsClient(credentials_file_path=settings.CREDENTIALS_FILE_PATH)\n",
    "            sheets_client.add_dataframe(\n",
    "                                data_frame=result_dataframe,\n",
    "                                sheet_name=settings.SHEET_NAME,\n",
    "                                spreadsheet_name=settings.SPREADSHEET_NAME\n",
    "                            )\n",
    "        except Exception as e:\n",
    "            logger.error(f\"Error processing pdf: {e}\")\n",
    "            continue\n",
    "\n",
    "except Exception as e:\n",
    "    logger.error(f\"Error processing pdf: {e}\")\n",
    "    email_client.disconnect()"
   ]
  },
  {
   "cell_type": "code",
   "execution_count": 4,
   "metadata": {},
   "outputs": [],
   "source": [
    "result1 = results[0]\n",
    "\n",
    "drive_client = DriveClient(credentials_file_path=settings.CREDENTIALS_FILE_PATH)\n",
    "for bol in result1:\n",
    "    file_name = bol.get('file_name')\n",
    "    binary_data = bol.get('binary_data')\n",
    "    file_path = 'folder1/' + file_name\n",
    "    pdf_link = drive_client.upload_pdf(binary_data, file_path, parent_folder_id = settings.DRIVE_FOLDER_ID)\n",
    "    bol['pdf_link'] = pdf_link\n",
    "\n",
    "data = [\n",
    "    {\n",
    "        'ship_from_company_name': item['shipment_info']['ship_from']['company_name'],\n",
    "        'ship_from_contact_person': item['shipment_info']['ship_from']['contact_person'],\n",
    "        'ship_from_contact_number': item['shipment_info']['ship_from']['contact_number'],\n",
    "        'ship_from_address': item['shipment_info']['ship_from']['address'],\n",
    "        'ship_to_company_name': item['shipment_info']['ship_to']['company_name'],\n",
    "        'ship_to_contact_person': item['shipment_info']['ship_to']['contact_person'],\n",
    "        'ship_to_contact_number': item['shipment_info']['ship_to']['contact_number'],\n",
    "        'ship_to_address': item['shipment_info']['ship_to']['address'],\n",
    "        'carrier_name': item['shipment_info']['carrier_info']['carrier_name'],\n",
    "        'scac': item['shipment_info']['carrier_info']['scac'],\n",
    "        'pro_number': item['shipment_info']['carrier_info']['pro_number'],\n",
    "        'order_number': item['shipment_info']['customer_order_information']['order_number'],\n",
    "        'shipment_id': item['shipment_info']['customer_order_information']['shipment_id'],\n",
    "        'pallets': item['shipment_info']['customer_order_information']['pallets'],\n",
    "        'cartons': item['shipment_info']['customer_order_information']['cartons'],\n",
    "        'weight': item['shipment_info']['customer_order_information']['weight'],\n",
    "        'pdf_link': item['pdf_link'],\n",
    "    } \n",
    "    for item in result1\n",
    "]\n",
    "\n",
    "result1_dataframe = pd.DataFrame(data)\n",
    "sheets_client = SheetsClient(credentials_file_path=settings.CREDENTIALS_FILE_PATH)\n",
    "sheets_client.add_dataframe(\n",
    "                    data_frame=result1_dataframe,\n",
    "                    sheet_name=settings.SHEET_NAME,\n",
    "                    spreadsheet_name=settings.SPREADSHEET_NAME\n",
    "                )\n"
   ]
  },
  {
   "cell_type": "code",
   "execution_count": 1,
   "metadata": {},
   "outputs": [],
   "source": [
    "from utils.pdf_splitter import split_pdf\n",
    "\n",
    "pdf_file = 'test_documents/AMAZON FREIGHT & CENTRAL FREIGHT (11 ORDERS) 05.30.24 (LIFEPRO).pdf'\n",
    "\n",
    "with open(pdf_file, 'rb') as file:\n",
    "    binary_data = file.read()\n",
    "\n",
    "result = split_pdf(binary_data)\n"
   ]
  },
  {
   "cell_type": "code",
   "execution_count": 2,
   "metadata": {},
   "outputs": [],
   "source": [
    "with open('test.pdf', 'wb') as file:\n",
    "    file.write(result[0]['pdf'])"
   ]
  }
 ],
 "metadata": {
  "kernelspec": {
   "display_name": ".venv",
   "language": "python",
   "name": "python3"
  },
  "language_info": {
   "codemirror_mode": {
    "name": "ipython",
    "version": 3
   },
   "file_extension": ".py",
   "mimetype": "text/x-python",
   "name": "python",
   "nbconvert_exporter": "python",
   "pygments_lexer": "ipython3",
   "version": "3.10.13"
  }
 },
 "nbformat": 4,
 "nbformat_minor": 2
}
